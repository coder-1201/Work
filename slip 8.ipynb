{
 "cells": [
  {
   "cell_type": "code",
   "execution_count": null,
   "metadata": {},
   "outputs": [
    {
     "name": "stdout",
     "output_type": "stream",
     "text": [
      "Enter a string: Hello! World\n",
      "Number of uppercase letters: 2\n",
      "Number of lowercase letters: 8\n"
     ]
    }
   ],
   "source": [
    "# Write a Python program to accept a string. Find and print the number of upper case alphabets and lower case alphabets.\n",
    "\n",
    "\n",
    "s = input(\"Enter a string: \")\n",
    "upper_count = sum(1 for char in s if char.isupper())\n",
    "lower_count = sum(1 for char in s if char.islower())\n",
    "\n",
    "print(f\"Number of uppercase letters: {upper_count}\")\n",
    "print(f\"Number of lowercase letters: {lower_count}\")\n"
   ]
  },
  {
   "cell_type": "code",
   "execution_count": null,
   "metadata": {},
   "outputs": [],
   "source": [
    "# Write a Python program to solve tic-tac-toe problem.\n",
    "board = [' '] * 9\n",
    "current_player = 'X'\n",
    "\n",
    "def print_board():\n",
    "    for i in range(0, 9, 3):\n",
    "        print(\" | \".join(board[i:i+3]))\n",
    "    print()\n",
    "\n",
    "def check_winner():\n",
    "    win_patterns = [(0, 1, 2), (3, 4, 5), (6, 7, 8), (0, 3, 6), (1, 4, 7), (2, 5, 8), (0, 4, 8), (2, 4, 6)]\n",
    "    for a, b, c in win_patterns:\n",
    "        if board[a] == board[b] == board[c] != ' ':\n",
    "            return board[a]\n",
    "    if ' ' not in board:\n",
    "        return 'Draw'\n",
    "    return None\n",
    "\n",
    "print(\"Welcome to Tic-Tac-Toe!\")\n",
    "print_board()\n",
    "\n",
    "while True:\n",
    "    move = int(input(f\"Player {current_player}, enter your move (1-9): \")) - 1\n",
    "    if board[move] == ' ':\n",
    "        board[move] = current_player\n",
    "        print_board()\n",
    "        winner = check_winner()\n",
    "        if winner:\n",
    "            print(f\"{winner} wins!\" if winner != 'Draw' else \"It's a draw!\")\n",
    "            break\n",
    "        current_player = 'O' if current_player == 'X' else 'X'\n",
    "    else:\n",
    "        print(\"Invalid move, try again.\")\n"
   ]
  },
  {
   "cell_type": "code",
   "execution_count": null,
   "metadata": {},
   "outputs": [],
   "source": [
    "\n"
   ]
  }
 ],
 "metadata": {
  "kernelspec": {
   "display_name": "Python 3",
   "language": "python",
   "name": "python3"
  },
  "language_info": {
   "codemirror_mode": {
    "name": "ipython",
    "version": 3
   },
   "file_extension": ".py",
   "mimetype": "text/x-python",
   "name": "python",
   "nbconvert_exporter": "python",
   "pygments_lexer": "ipython3",
   "version": "3.12.4"
  }
 },
 "nbformat": 4,
 "nbformat_minor": 2
}
