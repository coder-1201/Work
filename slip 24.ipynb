{
 "cells": [
  {
   "cell_type": "code",
   "execution_count": null,
   "metadata": {},
   "outputs": [
    {
     "name": "stdout",
     "output_type": "stream",
     "text": [
      "Sorted sentence in alphabetical order:\n",
      "am i yash\n"
     ]
    }
   ],
   "source": [
    "# Write a python program to sort the sentence in alphabetical order?\n",
    "\n",
    "sentence = input(\"Enter a sentence: \")\n",
    "print(\"Sorted sentence in alphabetical order:\")\n",
    "print(' '.join(sorted(sentence.split())))\n",
    "\n"
   ]
  },
  {
   "cell_type": "code",
   "execution_count": null,
   "metadata": {},
   "outputs": [
    {
     "name": "stdout",
     "output_type": "stream",
     "text": [
      "Solution found:\n",
      "C=9, R=6, O=2, S=3, A=5, D=1, N=8, G=7, E=4\n",
      "CROSS = 96233\n",
      "ROADS = 62513\n",
      "DANGER = 158746\n"
     ]
    }
   ],
   "source": [
    "# Write a Python program for the following Cryptorithmetic problems \n",
    "# CROSS+ROADS = DANGER\n",
    "\n",
    "from itertools import permutations\n",
    "\n",
    "def is_valid_assignment(c, r, o, s, a, d, n, g, e):\n",
    "    \n",
    "    cross = c * 10000 + r * 1000 + o * 100 + s * 10 + s\n",
    "    roads = r * 10000 + o * 1000 + a * 100 + d * 10 + s\n",
    "    danger = d * 100000 + a * 10000 + n * 1000 + g * 100 + e * 10 + r\n",
    "    \n",
    "   \n",
    "    return (cross + roads) == danger\n",
    "\n",
    "def find_solution():\n",
    "  \n",
    "    letters = 'CROSADNGE'\n",
    "\n",
    "    \n",
    "    for perm in permutations(range(10), len(letters)):\n",
    "      \n",
    "        c, r, o, s, a, d, n, g, e = perm \n",
    "        \n",
    "        \n",
    "        if c == 0 or r == 0:\n",
    "            continue\n",
    "        \n",
    "        if is_valid_assignment(c, r, o, s, a, d, n, g, e):\n",
    "            print(f'Solution found:')\n",
    "            print(f'C={c}, R={r}, O={o}, S={s}, A={a}, D={d}, N={n}, G={g}, E={e}')\n",
    "            print(f'CROSS = {c*10000 + r*1000 + o*100 + s*10 + s}')\n",
    "            print(f'ROADS = {r*10000 + o*1000 + a*100 + d*10 + s}')\n",
    "            print(f'DANGER = {d*100000 + a*10000 + n*1000 + g*100 + e*10 + r}')\n",
    "            return\n",
    "\n",
    "    print(\"No solution found.\")\n",
    "\n",
    "def main():\n",
    "    find_solution()\n",
    "\n",
    "if __name__ == \"__main__\":\n",
    "    main()\n"
   ]
  },
  {
   "cell_type": "code",
   "execution_count": null,
   "metadata": {},
   "outputs": [],
   "source": []
  }
 ],
 "metadata": {
  "kernelspec": {
   "display_name": "Python 3",
   "language": "python",
   "name": "python3"
  },
  "language_info": {
   "codemirror_mode": {
    "name": "ipython",
    "version": 3
   },
   "file_extension": ".py",
   "mimetype": "text/x-python",
   "name": "python",
   "nbconvert_exporter": "python",
   "pygments_lexer": "ipython3",
   "version": "3.12.4"
  }
 },
 "nbformat": 4,
 "nbformat_minor": 2
}
