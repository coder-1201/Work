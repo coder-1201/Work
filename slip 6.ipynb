{
 "cells": [
  {
   "cell_type": "code",
   "execution_count": null,
   "metadata": {},
   "outputs": [
    {
     "name": "stdout",
     "output_type": "stream",
     "text": [
      "Filtered Text:\n",
      "bustling city New York , many people often find caught whirlwind daily activities . Whether 's commuting work , attending meetings , simply enjoying cup coffee favorite cafÃ© , life city exciting overwhelming . Despite chaos , residents cherish vibrant culture diverse community make New York unique place live .\n"
     ]
    }
   ],
   "source": [
    "# Write a python program to remove stop words for a given passage from a text file using NLTK?.\n",
    "\n",
    "from nltk.corpus import stopwords\n",
    "from nltk.tokenize import word_tokenize\n",
    "\n",
    "with open('text.txt', 'r') as file:\n",
    "    text = file.read()\n",
    "\n",
    "stop_words = set(stopwords.words('english'))\n",
    "words = word_tokenize(text)\n",
    "filtered_text = ' '.join(word for word in words if word.lower() not in stop_words)\n",
    "\n",
    "print(\"Filtered Text:\")\n",
    "print(filtered_text)\n"
   ]
  },
  {
   "cell_type": "code",
   "execution_count": null,
   "metadata": {},
   "outputs": [
    {
     "name": "stdout",
     "output_type": "stream",
     "text": [
      "Following is the Breadth-First Search from node 1 to find node 8:\n",
      "Visited: 1\n",
      "Visited: 2\n",
      "Visited: 3\n",
      "Visited: 4\n",
      "Visited: 5\n",
      "Visited: 7\n",
      "\n",
      "BFS path to reach node 7: [1, 4, 7]\n"
     ]
    },
    {
     "data": {
      "text/plain": [
       "True"
      ]
     },
     "execution_count": 3,
     "metadata": {},
     "output_type": "execute_result"
    }
   ],
   "source": [
    "# Write a Python program to implement Breadth First Search algorithm. Refer the following graph as an Input for the program.[Initial node=1,Goal node=7]\n",
    "\n",
    "from collections import deque\n",
    "\n",
    "graph = {\n",
    "    1: [2, 3, 4],\n",
    "    2: [1, 4, 5],\n",
    "    3: [1, 4],\n",
    "    4: [1, 2, 3, 7],\n",
    "    5: [6, 3, 7],\n",
    "    6: [5 , 7],\n",
    "    7: [6 , 5, 4],\n",
    "}\n",
    "\n",
    "\n",
    "visited = set() \n",
    "\n",
    "\n",
    "def bfs(graph, start, goal):\n",
    "    queue = deque([(start, [start])])  \n",
    "    visited.add(start)\n",
    "    \n",
    "    while queue:\n",
    "        node, path = queue.popleft() \n",
    "        \n",
    "        print(f\"Visited: {node}\")\n",
    "        \n",
    "        if node == goal:\n",
    "            print(f\"\\nBFS path to reach node {goal}: {path}\")\n",
    "            return True\n",
    "        \n",
    "        for neighbor in graph[node]:\n",
    "            if neighbor not in visited:\n",
    "                visited.add(neighbor)\n",
    "                queue.append((neighbor, path + [neighbor]))  \n",
    "    \n",
    "    print(f\"Node {goal} not found in the graph from node {start}\")\n",
    "    return False\n",
    "\n",
    "\n",
    "print(\"Following is the Breadth-First Search from node 1 to find node 8:\")\n",
    "bfs(graph, 1, 7)\n"
   ]
  },
  {
   "cell_type": "code",
   "execution_count": null,
   "metadata": {},
   "outputs": [],
   "source": []
  }
 ],
 "metadata": {
  "kernelspec": {
   "display_name": "Python 3",
   "language": "python",
   "name": "python3"
  },
  "language_info": {
   "codemirror_mode": {
    "name": "ipython",
    "version": 3
   },
   "file_extension": ".py",
   "mimetype": "text/x-python",
   "name": "python",
   "nbconvert_exporter": "python",
   "pygments_lexer": "ipython3",
   "version": "3.12.4"
  }
 },
 "nbformat": 4,
 "nbformat_minor": 2
}
