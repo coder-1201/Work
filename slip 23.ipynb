{
 "cells": [
  {
   "cell_type": "code",
   "execution_count": null,
   "metadata": {},
   "outputs": [
    {
     "name": "stdout",
     "output_type": "stream",
     "text": [
      "Enter the number of disks: 3\n",
      "The sequence of moves involved in the Tower of Hanoi are:\n",
      "Move disk 1 from A to C\n",
      "Move disk 2 from A to B\n",
      "Move disk 1 from C to B\n",
      "Move disk 3 from A to C\n",
      "Move disk 1 from B to A\n",
      "Move disk 2 from B to C\n",
      "Move disk 1 from A to C\n"
     ]
    }
   ],
   "source": [
    "# Write a Program to Implement Tower of Hanoi using Python\n",
    "def tower_of_hanoi(n, source, destination, auxiliary):\n",
    "    if n == 1:\n",
    "        print(f\"Move disk 1 from {source} to {destination}\")\n",
    "        return\n",
    "    tower_of_hanoi(n - 1, source, auxiliary, destination)\n",
    "    print(f\"Move disk {n} from {source} to {destination}\")\n",
    "    tower_of_hanoi(n - 1, auxiliary, destination, source)\n",
    "\n",
    "\n",
    "n = int(input(\"Enter the number of disks: \"))\n",
    "tower_of_hanoi(n, 'A', 'C', 'B')\n",
    "\n",
    "\n"
   ]
  },
  {
   "cell_type": "code",
   "execution_count": 1,
   "metadata": {},
   "outputs": [
    {
     "name": "stdout",
     "output_type": "stream",
     "text": [
      "Solution found:\n",
      "S=9, E=5, N=6, D=7, M=1, O=0, R=8, Y=2\n",
      "SEND = 9567\n",
      "MORE = 1085\n",
      "MONEY = 10652\n"
     ]
    }
   ],
   "source": [
    "# Write a Python program for the following Cryptarithmetic problems\n",
    "# SEND + MORE = MONEY\n",
    "\n",
    "from itertools import permutations\n",
    "\n",
    "def is_valid_assignment(s, e, n, d, m, o, r, y):\n",
    "    \n",
    "    send = s * 1000 + e * 100 + n * 10 + d\n",
    "    more = m * 1000 + o * 100 + r * 10 + e\n",
    "    money = m * 10000 + o * 1000 + n * 100 + e * 10 + y\n",
    "    \n",
    "   \n",
    "    return (send + more) == money\n",
    "\n",
    "def find_solution():\n",
    "    \n",
    "    letters = 'SENDMORY'\n",
    "   \n",
    "    for perm in permutations(range(10), len(letters)):\n",
    "       \n",
    "        s, e, n, d, m, o, r, y = perm\n",
    "        \n",
    "       \n",
    "        if s == 0 or m == 0:\n",
    "            continue\n",
    "        \n",
    "        if is_valid_assignment(s, e, n, d, m, o, r, y):\n",
    "            print(f'Solution found:')\n",
    "            print(f'S={s}, E={e}, N={n}, D={d}, M={m}, O={o}, R={r}, Y={y}')\n",
    "            print(f'SEND = {s*1000 + e*100 + n*10 + d}')\n",
    "            print(f'MORE = {m*1000 + o*100 + r*10 + e}')\n",
    "            print(f'MONEY = {m * 10000 + o * 1000 + n * 100 + e * 10 + y}')\n",
    "            return\n",
    "\n",
    "    print(\"No solution found.\")\n",
    "\n",
    "def main():\n",
    "    find_solution()\n",
    "\n",
    "if __name__ == \"__main__\":\n",
    "    main()\n",
    "\n"
   ]
  },
  {
   "cell_type": "code",
   "execution_count": null,
   "metadata": {},
   "outputs": [],
   "source": []
  },
  {
   "cell_type": "code",
   "execution_count": null,
   "metadata": {},
   "outputs": [],
   "source": []
  }
 ],
 "metadata": {
  "kernelspec": {
   "display_name": "Python 3",
   "language": "python",
   "name": "python3"
  },
  "language_info": {
   "codemirror_mode": {
    "name": "ipython",
    "version": 3
   },
   "file_extension": ".py",
   "mimetype": "text/x-python",
   "name": "python",
   "nbconvert_exporter": "python",
   "pygments_lexer": "ipython3",
   "version": "3.12.4"
  }
 },
 "nbformat": 4,
 "nbformat_minor": 2
}
