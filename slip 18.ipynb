{
 "cells": [
  {
   "cell_type": "code",
   "execution_count": 1,
   "metadata": {},
   "outputs": [
    {
     "name": "stdout",
     "output_type": "stream",
     "text": [
      "Filtered Text:\n",
      "bustling city New York , many people often find caught whirlwind daily activities . Whether 's commuting work , attending meetings , simply enjoying cup coffee favorite cafe , life city exciting overwhelming . Despite chaos , residents cherish vibrant culture diverse community make New York unique place live .\n"
     ]
    }
   ],
   "source": [
    "# Write a python program to remove stop words for a given passage from a text file using NLTK?.\n",
    "\n",
    "from nltk.corpus import stopwords\n",
    "from nltk.tokenize import word_tokenize\n",
    "\n",
    "with open('text.txt', 'r') as file:\n",
    "    text = file.read()\n",
    "\n",
    "stop_words = set(stopwords.words('english'))\n",
    "words = word_tokenize(text)\n",
    "filtered_text = ' '.join(word for word in words if word.lower() not in stop_words)\n",
    "\n",
    "print(\"Filtered Text:\")\n",
    "print(filtered_text)\n"
   ]
  },
  {
   "cell_type": "code",
   "execution_count": 4,
   "metadata": {},
   "outputs": [
    {
     "name": "stdout",
     "output_type": "stream",
     "text": [
      "Objects placed successfully: [<__main__.Object object at 0x000001D14432BC50>, <__main__.Object object at 0x000001D14432BC50>, <__main__.Object object at 0x000001D14432BC50>, <__main__.Object object at 0x000001D14432BC50>, <__main__.Object object at 0x000001D14432BC50>, <__main__.Object object at 0x000001D14432BC50>, <__main__.Object object at 0x000001D14432BC50>, <__main__.Object object at 0x000001D14432BC50>, <__main__.Object object at 0x000001D14432BC50>]\n"
     ]
    }
   ],
   "source": [
    "# Implement a system that performs arrangement of some set of objects in a room. Assume that\n",
    "# you have only 5 rectangular, 4 square-shaped objects. Use A* approach for the placement of\n",
    "# the objects in room for efficient space utilisation. Assume suitable heuristic, and dimensions of\n",
    "# objects and rooms. (Informed Search)\n",
    "\n",
    "import heapq\n",
    "\n",
    "class Object:\n",
    "    def __init__(self, width, height):\n",
    "        self.width = width\n",
    "        self.height = height\n",
    "\n",
    "class State:\n",
    "    def __init__(self, placed_objects, room_grid):\n",
    "        self.placed_objects = placed_objects  # List of placed objects\n",
    "        self.room_grid = room_grid  # 2D grid representing room occupancy\n",
    "        self.g = len(placed_objects)  # Cost to reach this state\n",
    "        self.h = heuristic(placed_objects, room_width, room_height)  # Heuristic value\n",
    "        self.f = self.g + self.h  # Total cost\n",
    "\n",
    "    def __lt__(self, other):\n",
    "        return self.f < other.f  # Compare for priority queue\n",
    "\n",
    "def heuristic(placed_objects, room_width, room_height):\n",
    "    total_area = room_width * room_height\n",
    "    occupied_area = sum(obj.width * obj.height for obj in placed_objects)\n",
    "    return total_area - occupied_area\n",
    "\n",
    "def generate_next_states(state, objects):\n",
    "    next_states = []\n",
    "    for obj in objects:\n",
    "        # Try placing the object in different positions in the room\n",
    "        for x in range(room_width - obj.width + 1):\n",
    "            for y in range(room_height - obj.height + 1):\n",
    "                # Check if space is free\n",
    "                if all(state.room_grid[i][j] == 0 for i in range(x, x + obj.width) for j in range(y, y + obj.height)):\n",
    "                    # Create a new state\n",
    "                    new_grid = [row[:] for row in state.room_grid]  # Copy current grid\n",
    "                    for i in range(x, x + obj.width):\n",
    "                        for j in range(y, y + obj.height):\n",
    "                            new_grid[i][j] = 1  # Mark as occupied\n",
    "                    next_states.append(State(state.placed_objects + [obj], new_grid))\n",
    "    return next_states\n",
    "\n",
    "def a_star(objects, room_width, room_height):\n",
    "    initial_state = State([], [[0] * room_height for _ in range(room_width)])\n",
    "    open_set = []\n",
    "    heapq.heappush(open_set, initial_state)\n",
    "\n",
    "    while open_set:\n",
    "        current_state = heapq.heappop(open_set)\n",
    "\n",
    "        # Check if goal state (all objects placed)\n",
    "        if len(current_state.placed_objects) == len(objects):\n",
    "            return current_state.placed_objects  # Return the final arrangement\n",
    "\n",
    "        # Generate next states\n",
    "        next_states = generate_next_states(current_state, objects)\n",
    "        for next_state in next_states:\n",
    "            heapq.heappush(open_set, next_state)\n",
    "\n",
    "    return None  # No solution found\n",
    "\n",
    "# Define objects and room dimensions\n",
    "objects = [\n",
    "    Object(2, 3), Object(1, 4), Object(3, 2), Object(2, 2), Object(4, 1), \n",
    "    Object(2, 2), Object(2, 2), Object(3, 3), Object(3, 3)\n",
    "]\n",
    "room_width, room_height = 10, 10\n",
    "\n",
    "# Execute A* algorithm\n",
    "result = a_star(objects, room_width, room_height)\n",
    "if result:\n",
    "    print(\"Objects placed successfully:\", result)\n",
    "else:\n",
    "    print(\"No valid arrangement found.\")\n",
    "\n"
   ]
  },
  {
   "cell_type": "code",
   "execution_count": null,
   "metadata": {},
   "outputs": [],
   "source": []
  },
  {
   "cell_type": "code",
   "execution_count": null,
   "metadata": {},
   "outputs": [],
   "source": []
  }
 ],
 "metadata": {
  "kernelspec": {
   "display_name": "Python 3",
   "language": "python",
   "name": "python3"
  },
  "language_info": {
   "codemirror_mode": {
    "name": "ipython",
    "version": 3
   },
   "file_extension": ".py",
   "mimetype": "text/x-python",
   "name": "python",
   "nbconvert_exporter": "python",
   "pygments_lexer": "ipython3",
   "version": "3.12.4"
  }
 },
 "nbformat": 4,
 "nbformat_minor": 2
}
