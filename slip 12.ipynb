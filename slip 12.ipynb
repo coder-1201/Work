{
 "cells": [
  {
   "cell_type": "code",
   "execution_count": null,
   "metadata": {},
   "outputs": [
    {
     "name": "stdout",
     "output_type": "stream",
     "text": [
      "\n",
      "Calendar for October 2024:\n",
      "\n",
      "    October 2024\n",
      "Su Mo Tu We Th Fr Sa\n",
      "       1  2  3  4  5\n",
      " 6  7  8  9 10 11 12\n",
      "13 14 15 16 17 18 19\n",
      "20 21 22 23 24 25 26\n",
      "27 28 29 30 31\n",
      "\n"
     ]
    }
   ],
   "source": [
    "# Write a python program to generate Calendar for the given month and year?.\n",
    "import calendar\n",
    "\n",
    "year = int(input(\"Enter year: \"))\n",
    "month = int(input(\"Enter month (1-12): \"))\n",
    "\n",
    "print(f\"\\nCalendar for {calendar.month_name[month]} {year}:\\n\")\n",
    "\n",
    "print(calendar.month(year, month))"
   ]
  },
  {
   "cell_type": "code",
   "execution_count": 1,
   "metadata": {},
   "outputs": [
    {
     "name": "stdout",
     "output_type": "stream",
     "text": [
      ". Q . .\n",
      ". . . Q\n",
      "Q . . .\n",
      ". . Q .\n",
      "\n",
      ". . Q .\n",
      "Q . . .\n",
      ". . . Q\n",
      ". Q . .\n",
      "\n"
     ]
    }
   ],
   "source": [
    "# Write a Python program to simulate 4-Queens problem.\n",
    "\n",
    "def solve_n_queens(n):\n",
    "    board = [-1] * n\n",
    "    solutions = []\n",
    "\n",
    "    def place_queens(row):\n",
    "        if row == n:\n",
    "            solutions.append(board[:])\n",
    "            return\n",
    "        for col in range(n):\n",
    "            if all(col != board[i] and abs(col - board[i]) != row - i for i in range(row)):\n",
    "                board[row] = col\n",
    "                place_queens(row + 1)\n",
    "                board[row] = -1\n",
    "\n",
    "    place_queens(0)\n",
    "    return solutions\n",
    "\n",
    "def print_solutions(solutions, n):\n",
    "    for solution in solutions:\n",
    "        for col in solution:\n",
    "            row = ['.'] * n\n",
    "            row[col] = 'Q'\n",
    "            print(\" \".join(row))\n",
    "        print()\n",
    "\n",
    "n = 4\n",
    "solutions = solve_n_queens(n)\n",
    "print_solutions(solutions, n)\n",
    "\n"
   ]
  },
  {
   "cell_type": "code",
   "execution_count": null,
   "metadata": {},
   "outputs": [],
   "source": []
  }
 ],
 "metadata": {
  "kernelspec": {
   "display_name": "Python 3",
   "language": "python",
   "name": "python3"
  },
  "language_info": {
   "codemirror_mode": {
    "name": "ipython",
    "version": 3
   },
   "file_extension": ".py",
   "mimetype": "text/x-python",
   "name": "python",
   "nbconvert_exporter": "python",
   "pygments_lexer": "ipython3",
   "version": "3.12.4"
  }
 },
 "nbformat": 4,
 "nbformat_minor": 2
}
