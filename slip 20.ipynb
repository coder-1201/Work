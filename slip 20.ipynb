{
 "cells": [
  {
   "cell_type": "code",
   "execution_count": null,
   "metadata": {},
   "outputs": [
    {
     "name": "stdout",
     "output_type": "stream",
     "text": [
      "The optimal value is : 12\n"
     ]
    }
   ],
   "source": [
    "\n",
    "# Write a Python program to implement Mini-Max Algorithm.\n",
    "\n",
    "import math\n",
    "\n",
    "def minimax(curdepth, nodeIndex, maxTurn, scores, targetDepth):\n",
    "    if curdepth == targetDepth:\n",
    "        return scores[nodeIndex]\n",
    "    \n",
    "    if maxTurn:\n",
    "        return max(minimax(curdepth + 1, nodeIndex * 2, False, scores, targetDepth),\n",
    "                   minimax(curdepth + 1, nodeIndex * 2 + 1, False, scores, targetDepth))\n",
    "    else:\n",
    "        return min(minimax(curdepth + 1, nodeIndex * 2, True, scores, targetDepth),\n",
    "                   minimax(curdepth + 1, nodeIndex * 2 + 1, True, scores, targetDepth))\n",
    "\n",
    "scores = [3, 5, 2, 9, 12, 5, 23, 23]\n",
    "treeDepth = int(math.log(len(scores), 2))\n",
    "\n",
    "print(\"The optimal value is:\", minimax(0, 0, True, scores, treeDepth))"
   ]
  },
  {
   "cell_type": "code",
   "execution_count": null,
   "metadata": {},
   "outputs": [
    {
     "name": "stdout",
     "output_type": "stream",
     "text": [
      "XYZ College\n",
      "I'm sorry, I didn't understand that. Please ask about college name, location, courses, etc.\n",
      "Computer Science, Business Administration, Mechanical Engineering\n"
     ]
    }
   ],
   "source": [
    "# Build a bot which provides all the information related to you in college\n",
    "\n",
    "college_info = {\n",
    "    \"name\": \"XYZ College\",\n",
    "    \"location\": \"123 College Ave, City, Country\",\n",
    "    \"history\": \"Founded in 1990, XYZ College has been a leader in education.\",\n",
    "    \"courses\": [\"Computer Science\", \"Business Administration\", \"Mechanical Engineering\"],\n",
    "    \"admission_requirements\": \"High school diploma, entrance exam.\",\n",
    "    \"facilities\": [\"Library\", \"Computer Lab\", \"Sports Complex\"],\n",
    "    \"events\": [\"Annual Day\", \"Tech Fest\", \"Cultural Fest\"],\n",
    "    \"faq\": {\n",
    "        \"What is the college's ranking?\": \"XYZ College is ranked in the top 100 colleges in the country.\",\n",
    "        \"Does the college offer scholarships?\": \"Yes, we offer various scholarships based on merit and need.\"\n",
    "    }\n",
    "}\n",
    "\n",
    "def college_bot(query):\n",
    "    query = query.lower()\n",
    "    \n",
    "    if \"name\" in query:\n",
    "        return college_info[\"name\"]\n",
    "    elif \"location\" in query:\n",
    "        return college_info[\"location\"]\n",
    "    elif \"history\" in query:\n",
    "        return college_info[\"history\"]\n",
    "    elif \"courses\" in query:\n",
    "        return \", \".join(college_info[\"courses\"])\n",
    "    elif \"admission\" in query:\n",
    "        return college_info[\"admission_requirements\"]\n",
    "    elif \"facilities\" in query:\n",
    "        return \", \".join(college_info[\"facilities\"])\n",
    "    elif \"events\" in query:\n",
    "        return \", \".join(college_info[\"events\"])\n",
    "    elif \"faq\" in query:\n",
    "        return \"\\n\".join([f\"{q}: {a}\" for q, a in college_info[\"faq\"].items()])\n",
    "    else:\n",
    "        return \"I'm sorry, I didn't understand that. Please ask about college name, location, courses, etc.\"\n",
    "\n",
    "while True:\n",
    "    user_input = input(\"Ask me anything about the college (type 'exit' to stop): \")\n",
    "    if user_input.lower() == 'exit':\n",
    "        print(\"Thank you for using the college information bot!\")\n",
    "        break\n",
    "    response = college_bot(user_input)\n",
    "    print(response)\n"
   ]
  },
  {
   "cell_type": "code",
   "execution_count": null,
   "metadata": {},
   "outputs": [],
   "source": []
  }
 ],
 "metadata": {
  "kernelspec": {
   "display_name": "Python 3",
   "language": "python",
   "name": "python3"
  },
  "language_info": {
   "codemirror_mode": {
    "name": "ipython",
    "version": 3
   },
   "file_extension": ".py",
   "mimetype": "text/x-python",
   "name": "python",
   "nbconvert_exporter": "python",
   "pygments_lexer": "ipython3",
   "version": "3.12.4"
  }
 },
 "nbformat": 4,
 "nbformat_minor": 2
}
