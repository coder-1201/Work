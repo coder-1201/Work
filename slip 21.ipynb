{
 "cells": [
  {
   "cell_type": "code",
   "execution_count": 1,
   "metadata": {},
   "outputs": [
    {
     "name": "stdout",
     "output_type": "stream",
     "text": [
      "Original String: Hello, World! How's it going? Let's remove: punctuation.\n",
      "String without punctuation: Hello World Hows it going Lets remove punctuation\n"
     ]
    }
   ],
   "source": [
    "# Write a python program to remove punctuations from the given string?\n",
    "\n",
    "import string\n",
    "\n",
    "input_string = \"Hello, World! How's it going? Let's remove: punctuation.\"\n",
    "clean_string =  input_string.translate(str.maketrans('', '', string.punctuation))\n",
    "\n",
    "print(f\"Original String: {input_string}\")\n",
    "print(f\"String without punctuation: {clean_string}\")"
   ]
  },
  {
   "cell_type": "code",
   "execution_count": null,
   "metadata": {},
   "outputs": [
    {
     "name": "stdout",
     "output_type": "stream",
     "text": [
      "Solution found: G=8, O=1, T=2, U=0\n",
      "GO = 81\n",
      "TO = 21\n",
      "OUT = 102\n"
     ]
    }
   ],
   "source": [
    "# Write Python program to implement crypt arithmetic problem\n",
    "# GO + TO = OUT\n",
    "\n",
    "\n",
    "from itertools import permutations\n",
    "\n",
    "def is_valid_assignment(g, o, t, u):\n",
    " \n",
    "    go = g * 10 + o\n",
    "    to = t * 10 + o\n",
    "    out = o * 100 + u * 10 + t\n",
    "    \n",
    "\n",
    "    return (go + to) == out\n",
    "\n",
    "def find_solution():\n",
    "\n",
    "    letters = 'GOTU'\n",
    "    \n",
    "\n",
    "    for perm in permutations(range(10), len(letters)):\n",
    "       \n",
    "        g, o, t, u = perm\n",
    "        \n",
    "       \n",
    "        if g == 0 or t == 0:\n",
    "            continue\n",
    "        \n",
    "        if is_valid_assignment(g, o, t, u):\n",
    "            print(f'Solution found: G={g}, O={o}, T={t}, U={u}')\n",
    "            print(f'GO = {g*10 + o}')\n",
    "            print(f'TO = {t*10 + o}')\n",
    "            print(f'OUT = {o*100 + u*10 + t}')\n",
    "            return\n",
    "\n",
    "    print(\"No solution found.\")\n",
    "\n",
    "def main():\n",
    "    find_solution()\n",
    "\n",
    "if __name__ == \"__main__\":\n",
    "    main()\n"
   ]
  },
  {
   "cell_type": "code",
   "execution_count": null,
   "metadata": {},
   "outputs": [],
   "source": []
  }
 ],
 "metadata": {
  "kernelspec": {
   "display_name": "Python 3",
   "language": "python",
   "name": "python3"
  },
  "language_info": {
   "codemirror_mode": {
    "name": "ipython",
    "version": 3
   },
   "file_extension": ".py",
   "mimetype": "text/x-python",
   "name": "python",
   "nbconvert_exporter": "python",
   "pygments_lexer": "ipython3",
   "version": "3.12.4"
  }
 },
 "nbformat": 4,
 "nbformat_minor": 2
}
