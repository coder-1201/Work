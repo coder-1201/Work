{
 "cells": [
  {
   "cell_type": "code",
   "execution_count": 3,
   "metadata": {},
   "outputs": [
    {
     "name": "stdout",
     "output_type": "stream",
     "text": [
      "Operations to achieve transformation:\n",
      "Current state: dat\n",
      "Current state: dot\n",
      "Current state: dog\n",
      "\n",
      "Operations to achieve transformation:\n",
      "Replace 'c' with 'd'\n",
      "Replace 'a' with 'o'\n",
      "Replace 't' with 'g'\n"
     ]
    }
   ],
   "source": [
    "# Write a python program using mean end analysis algorithmproblem of transforming a string of lowercase letters into another string.\n",
    "\n",
    "def transform(A, B):\n",
    "    if len(A) != len(B):\n",
    "        return -1\n",
    "    \n",
    "    A = list(A)\n",
    "    operations = []\n",
    "    \n",
    "\n",
    "    for i in range(len(A)):\n",
    "        if A[i] != B[i]:  \n",
    "            operations.append(f\"Replace '{A[i]}' with '{B[i]}'\")\n",
    "            A[i] = B[i]\n",
    "            print(f\"Current state: {''.join(A)}\") \n",
    "    \n",
    "    return operations\n",
    "\n",
    "\n",
    "A = \"cat\"\n",
    "B = \"dog\"\n",
    "print(\"Operations to achieve transformation:\")\n",
    "operations = transform(A, B)\n",
    "\n",
    "print(\"\\nOperations to achieve transformation:\")\n",
    "for op in operations:\n",
    "    print(op)"
   ]
  },
  {
   "cell_type": "code",
   "execution_count": 2,
   "metadata": {},
   "outputs": [
    {
     "name": "stdout",
     "output_type": "stream",
     "text": [
      "Steps are:\n",
      "5-gallon jug: 0 7-gallon jug: 0\n",
      "5-gallon jug: 5 7-gallon jug: 0\n",
      "5-gallon jug: 5 7-gallon jug: 7\n",
      "5-gallon jug: 0 7-gallon jug: 7\n",
      "5-gallon jug: 5 7-gallon jug: 2\n",
      "5-gallon jug: 0 7-gallon jug: 2\n",
      "5-gallon jug: 2 7-gallon jug: 0\n",
      "5-gallon jug: 2 7-gallon jug: 7\n",
      "5-gallon jug: 5 7-gallon jug: 4\n"
     ]
    }
   ],
   "source": [
    "# Write a Python program to solve water jug problem. 2 jugs with capacity 5 gallon and 7 gallon are given with unlimited water supply respectively. The target to achieve is 4 gallon of water in second jug.\n",
    "\n",
    "\n",
    "from collections import defaultdict\n",
    "\n",
    "jug1, jug2, aim = 5, 7, 4\n",
    "visited = defaultdict(lambda: False)\n",
    "\n",
    "def waterjug(amt1, amt2):\n",
    "    if amt1 == aim or amt2 == aim:\n",
    "        print(\"5-gallon jug:\", amt1, \"7-gallon jug:\", amt2)\n",
    "        return True\n",
    "\n",
    "    if visited[(amt1, amt2)] == False:\n",
    "        print(\"5-gallon jug:\", amt1, \"7-gallon jug:\", amt2)\n",
    "        visited[(amt1, amt2)] = True\n",
    "        \n",
    "       \n",
    "        return (waterjug(0, amt2) or  \n",
    "                waterjug(amt1, 0) or  \n",
    "                waterjug(jug1, amt2) or  \n",
    "                waterjug(amt1, jug2) or  \n",
    "                waterjug(amt1 + min(amt2, (jug1 - amt1)), amt2 - min(amt2, (jug1 - amt1))) or  \n",
    "                waterjug(amt1 - min(amt1, (jug2 - amt2)), amt2 + min(amt1, (jug2 - amt2))))   \n",
    "    return False\n",
    "\n",
    "print(\"Steps are:\")\n",
    "if not waterjug(0, 0):\n",
    "    print(\"Solution not found\")\n"
   ]
  },
  {
   "cell_type": "code",
   "execution_count": null,
   "metadata": {},
   "outputs": [],
   "source": []
  }
 ],
 "metadata": {
  "kernelspec": {
   "display_name": "Python 3",
   "language": "python",
   "name": "python3"
  },
  "language_info": {
   "codemirror_mode": {
    "name": "ipython",
    "version": 3
   },
   "file_extension": ".py",
   "mimetype": "text/x-python",
   "name": "python",
   "nbconvert_exporter": "python",
   "pygments_lexer": "ipython3",
   "version": "3.12.4"
  }
 },
 "nbformat": 4,
 "nbformat_minor": 2
}
