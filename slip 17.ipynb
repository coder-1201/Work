{
 "cells": [
  {
   "cell_type": "code",
   "execution_count": null,
   "metadata": {},
   "outputs": [
    {
     "name": "stdout",
     "output_type": "stream",
     "text": [
      "Optimal point: x = 2.0\n",
      "Maximum value: f(x) = 4.0\n"
     ]
    }
   ],
   "source": [
    "# Q1 Python program that demonstrates the hill climbing algorithm to find the maximum of a\n",
    "# mathematical function.(For example f(x) = -x^2 + 4x)\n",
    "# Define the function f(x) = -x^2 + 4x\n",
    "def f(x):\n",
    "    return -x**2 + 4*x\n",
    "\n",
    "def generate_neighbors(x, step=0.1):\n",
    "    return [x - step, x + step]\n",
    "\n",
    "def hill_climbing(f, x0):\n",
    "    x = x0\n",
    "    while True:\n",
    "        neighbors = generate_neighbors(x)\n",
    "        best_neighbor = max(neighbors, key=f)\n",
    "        if f(best_neighbor) <= f(x):\n",
    "            return x\n",
    "        x = best_neighbor\n",
    "\n",
    "starting_point = 2.0\n",
    "optimal_x = hill_climbing(f, starting_point)\n",
    "print(f\"Optimal point: x = {optimal_x}\")\n",
    "print(f\"Maximum value: f(x) = {f(optimal_x)}\")"
   ]
  },
  {
   "cell_type": "code",
   "execution_count": 1,
   "metadata": {},
   "outputs": [
    {
     "name": "stdout",
     "output_type": "stream",
     "text": [
      "Path from A to G: ['A', 'C', 'F', 'G']\n"
     ]
    }
   ],
   "source": [
    "# Write a Python program to implement A* algorithm. Refer the following graph as an Input for\n",
    "# the program.\n",
    "\n",
    "from queue import PriorityQueue\n",
    "\n",
    "graph = {\n",
    "    'A': [('B', 9), ('C', 4), ('D', 7)],\n",
    "    'B': [('A', 9), ('E', 11)],\n",
    "    'C': [('A', 4), ('E', 17), ('F', 12), ('D', 7)],\n",
    "    'D': [('A', 7), ('C', 7), ('F', 14)],\n",
    "    'E': [('B', 11), ('C', 17), ('G', 5)],\n",
    "    'F': [('C', 12), ('D', 14), ('G', 9)],\n",
    "    'G': []\n",
    "}\n",
    "\n",
    "heuristic = {\n",
    "    'A': 21,\n",
    "    'B': 14,\n",
    "    'C': 18,\n",
    "    'D': 18,\n",
    "    'E': 5,\n",
    "    'F': 8,\n",
    "    'G': 0\n",
    "}\n",
    "\n",
    "def a_star(start, goal):\n",
    "    open_set = PriorityQueue()\n",
    "    open_set.put((0, start))\n",
    "    g_cost = {node: float('inf') for node in graph}\n",
    "    g_cost[start] = 0\n",
    "    came_from = {start: None}\n",
    "\n",
    "    while not open_set.empty():\n",
    "        current_f_score, current = open_set.get()\n",
    "\n",
    "        if current == goal:\n",
    "            path = []\n",
    "            while current:\n",
    "                path.append(current)\n",
    "                current = came_from[current]\n",
    "            return path[::-1]\n",
    "\n",
    "        for neighbor, cost in graph[current]:\n",
    "            tentative_g_score = g_cost[current] + cost\n",
    "\n",
    "            if tentative_g_score < g_cost[neighbor]:\n",
    "                came_from[neighbor] = current\n",
    "                g_cost[neighbor] = tentative_g_score\n",
    "                f_score = tentative_g_score + heuristic[neighbor]\n",
    "                open_set.put((f_score, neighbor))\n",
    "\n",
    "    return None\n",
    "\n",
    "start_node = 'A'\n",
    "goal_node = 'G'\n",
    "path = a_star(start_node, goal_node)\n",
    "print(\"Path from {} to {}: {}\".format(start_node, goal_node, path))\n",
    "\n"
   ]
  },
  {
   "cell_type": "code",
   "execution_count": null,
   "metadata": {},
   "outputs": [],
   "source": []
  },
  {
   "cell_type": "code",
   "execution_count": null,
   "metadata": {},
   "outputs": [],
   "source": []
  }
 ],
 "metadata": {
  "kernelspec": {
   "display_name": "Python 3",
   "language": "python",
   "name": "python3"
  },
  "language_info": {
   "codemirror_mode": {
    "name": "ipython",
    "version": 3
   },
   "file_extension": ".py",
   "mimetype": "text/x-python",
   "name": "python",
   "nbconvert_exporter": "python",
   "pygments_lexer": "ipython3",
   "version": "3.12.4"
  }
 },
 "nbformat": 4,
 "nbformat_minor": 2
}
