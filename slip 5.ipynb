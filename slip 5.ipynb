{
 "cells": [
  {
   "cell_type": "code",
   "execution_count": null,
   "metadata": {},
   "outputs": [
    {
     "name": "stdout",
     "output_type": "stream",
     "text": [
      "Input text: The striped bats are hanging on their feet for best\n",
      "Lemmatized output: ['The', 'striped', 'bat', 'are', 'hanging', 'on', 'their', 'foot', 'for', 'best']\n"
     ]
    }
   ],
   "source": [
    "# Write a python program to implement Lemmatization using NLTK\n",
    "\n",
    "from nltk.stem import WordNetLemmatizer\n",
    "from nltk.tokenize import word_tokenize\n",
    "\n",
    "\n",
    "input_text = \"The striped bats are hanging on their feet for best\"\n",
    "lemmatize_text=[WordNetLemmatizer().lemmatize(word) for word in word_tokenize(input_text)]\n",
    "print(\"Input text:\", input_text)\n",
    "print(\"Lemmatized output:\", lemmatize_text)\n"
   ]
  },
  {
   "cell_type": "code",
   "execution_count": null,
   "metadata": {},
   "outputs": [
    {
     "name": "stdout",
     "output_type": "stream",
     "text": [
      "Following is the Breadth-First Search from node 1 to find node 8:\n",
      "Visited: 1\n",
      "Visited: 2\n",
      "Visited: 4\n",
      "Visited: 3\n",
      "Visited: 6\n",
      "Visited: 5\n",
      "Visited: 8\n",
      "\n",
      "BFS path to reach node 8: [1, 2, 3, 6, 8]\n"
     ]
    },
    {
     "data": {
      "text/plain": [
       "True"
      ]
     },
     "execution_count": 1,
     "metadata": {},
     "output_type": "execute_result"
    }
   ],
   "source": [
    "# Write a Python program to implement Breadth First Search algorithm. Refer the following graph as an Input for the program.[Initial node=1,Goal node=8]\n",
    "\n",
    "from collections import deque\n",
    "\n",
    "graph = {\n",
    "    1: [2, 4],\n",
    "    2: [3],\n",
    "    3: [4, 6, 5],\n",
    "    4: [2],\n",
    "    5: [7, 8],\n",
    "    6: [8],\n",
    "    7: [8],\n",
    "    8: []\n",
    "}\n",
    "\n",
    "\n",
    "visited = set() \n",
    "\n",
    "\n",
    "def bfs(graph, start, goal):\n",
    "    queue = deque([(start, [start])])  \n",
    "    visited.add(start)\n",
    "    \n",
    "    while queue:\n",
    "        node, path = queue.popleft() \n",
    "        \n",
    "        print(f\"Visited: {node}\")\n",
    "        \n",
    "        if node == goal:\n",
    "            print(f\"\\nBFS path to reach node {goal}: {path}\")\n",
    "            return True\n",
    "        \n",
    "        for neighbor in graph[node]:\n",
    "            if neighbor not in visited:\n",
    "                visited.add(neighbor)\n",
    "                queue.append((neighbor, path + [neighbor]))  \n",
    "    \n",
    "    print(f\"Node {goal} not found in the graph from node {start}\")\n",
    "    return False\n",
    "\n",
    "print(\"Following is the Breadth-First Search from node 1 to find node 8:\")\n",
    "bfs(graph, 1, 8)\n",
    "\n"
   ]
  },
  {
   "cell_type": "code",
   "execution_count": null,
   "metadata": {},
   "outputs": [],
   "source": []
  }
 ],
 "metadata": {
  "kernelspec": {
   "display_name": "Python 3",
   "language": "python",
   "name": "python3"
  },
  "language_info": {
   "codemirror_mode": {
    "name": "ipython",
    "version": 3
   },
   "file_extension": ".py",
   "mimetype": "text/x-python",
   "name": "python",
   "nbconvert_exporter": "python",
   "pygments_lexer": "ipython3",
   "version": "3.12.4"
  }
 },
 "nbformat": 4,
 "nbformat_minor": 2
}
