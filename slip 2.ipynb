{
 "cells": [
  {
   "cell_type": "code",
   "execution_count": 1,
   "id": "aea4b127",
   "metadata": {},
   "outputs": [
    {
     "name": "stdout",
     "output_type": "stream",
     "text": [
      "\n",
      "Calendar for October 2024:\n",
      "\n",
      "    October 2024\n",
      "Mo Tu We Th Fr Sa Su\n",
      "    1  2  3  4  5  6\n",
      " 7  8  9 10 11 12 13\n",
      "14 15 16 17 18 19 20\n",
      "21 22 23 24 25 26 27\n",
      "28 29 30 31\n",
      "\n"
     ]
    }
   ],
   "source": [
    "# Write a python program to generate Calendar for the given month and year?.\n",
    "import calendar\n",
    "\n",
    "year = int(input(\"Enter year: \"))\n",
    "month = int(input(\"Enter month (1-12): \"))\n",
    "\n",
    "print(f\"\\nCalendar for {calendar.month_name[month]} {year}:\\n\")\n",
    "\n",
    "print(calendar.month(year, month))\n"
   ]
  },
  {
   "cell_type": "code",
   "execution_count": null,
   "id": "62743b9c",
   "metadata": {},
   "outputs": [
    {
     "name": "stdout",
     "output_type": "stream",
     "text": [
      "Visited: 1\n",
      "Visited: 2\n",
      "Visited: 4\n",
      "Visited: 5\n",
      "Visited: 3\n",
      "Visited: 7\n",
      "\n",
      "DFS path to reach node 7: [1, 2, 4, 5, 7]\n"
     ]
    }
   ],
   "source": [
    "# Write a Python program to implement Depth First Search algorithm. Refer the following graph\n",
    "# as an Input for the program.[Initial node=1,Goal node=7].\n",
    "\n",
    "\n",
    "graph = {\n",
    "    1: [2, 3],\n",
    "    2: [4],\n",
    "    3: [2],\n",
    "    4: [5, 6],\n",
    "    5: [3, 7],\n",
    "    6: [],\n",
    "    7: [6],\n",
    "}\n",
    "\n",
    "visited = set()  \n",
    "path = []  \n",
    "\n",
    "\n",
    "def dfs(visited, graph, node, goal, path):\n",
    "    if node not in visited:\n",
    "        print(f\"Visited: {node}\")\n",
    "        visited.add(node)\n",
    "        path.append(node)  \n",
    "        if node == goal:\n",
    "            print(f\"\\nDFS path to reach node {goal}: {path}\")\n",
    "            return True \n",
    "        for neighbour in graph[node]:\n",
    "            if dfs(visited, graph, neighbour, goal, path):\n",
    "                return True\n",
    "        path.pop()  \n",
    "    return False\n",
    "\n",
    "print(\"Following is the Depth-First Search from node 1 to find node 8:\")\n",
    "dfs(visited, graph, 1, 7, path)\n",
    "\n"
   ]
  },
  {
   "cell_type": "code",
   "execution_count": null,
   "id": "9cd4ae36",
   "metadata": {},
   "outputs": [
    {
     "name": "stdout",
     "output_type": "stream",
     "text": [
      "Following is the Depth-First Search from node 1 to find node 8:\n",
      "Visited: 1\n",
      "Visited: 2\n",
      "Visited: 4\n",
      "Visited: 5\n",
      "Visited: 3\n",
      "Visited: 7\n",
      "\n",
      "DFS path to reach node 7: [1, 2, 4, 5, 7]\n"
     ]
    },
    {
     "data": {
      "text/plain": [
       "True"
      ]
     },
     "execution_count": 1,
     "metadata": {},
     "output_type": "execute_result"
    }
   ],
   "source": []
  },
  {
   "cell_type": "code",
   "execution_count": null,
   "id": "622e07ff",
   "metadata": {},
   "outputs": [],
   "source": []
  }
 ],
 "metadata": {
  "kernelspec": {
   "display_name": "Python 3",
   "language": "python",
   "name": "python3"
  },
  "language_info": {
   "codemirror_mode": {
    "name": "ipython",
    "version": 3
   },
   "file_extension": ".py",
   "mimetype": "text/x-python",
   "name": "python",
   "nbconvert_exporter": "python",
   "pygments_lexer": "ipython3",
   "version": "3.12.4"
  }
 },
 "nbformat": 4,
 "nbformat_minor": 5
}
