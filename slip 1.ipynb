{
 "cells": [
  {
   "cell_type": "code",
   "execution_count": 2,
   "id": "dd14b180",
   "metadata": {},
   "outputs": [
    {
     "name": "stdout",
     "output_type": "stream",
     "text": [
      "Optimal point: x = 2.0\n",
      "Maximum value: f(x) = 4.0\n"
     ]
    }
   ],
   "source": [
    "# Q1 Python program that demonstrates the hill climbing algorithm to find the maximum of a\n",
    "# mathematical function.(For example f(x) = -x^2 + 4x)\n",
    "# Define the function f(x) = -x^2 + 4x\n",
    "\n",
    "def f(x):\n",
    "    return -x**2 + 4*x\n",
    "\n",
    "def generate_neighbors(x, step=0.1):\n",
    "    return [x - step, x + step]\n",
    "\n",
    "def hill_climbing(f, x0):\n",
    "    x = x0\n",
    "    while True:\n",
    "        neighbors = generate_neighbors(x)\n",
    "        best_neighbor = max(neighbors, key=f)\n",
    "        if f(best_neighbor) <= f(x):\n",
    "            return x\n",
    "        x = best_neighbor\n",
    "\n",
    "starting_point = 2.0\n",
    "optimal_x = hill_climbing(f, starting_point)\n",
    "print(f\"Optimal point: x = {optimal_x}\")\n",
    "print(f\"Maximum value: f(x) = {f(optimal_x)}\")\n",
    "\n"
   ]
  },
  {
   "cell_type": "code",
   "execution_count": null,
   "id": "35cccd19",
   "metadata": {},
   "outputs": [
    {
     "name": "stdout",
     "output_type": "stream",
     "text": [
      "Following is the Depth-First Search from node 1 to find node 8:\n",
      "Visited: 1\n",
      "Visited: 2\n",
      "Visited: 4\n",
      "Visited: 8\n",
      "\n",
      "DFS path to reach node 8: [1, 2, 4, 8]\n"
     ]
    },
    {
     "data": {
      "text/plain": [
       "True"
      ]
     },
     "execution_count": 2,
     "metadata": {},
     "output_type": "execute_result"
    }
   ],
   "source": [
    "# Write a Python program to implement Depth First Search algorithm. Refer the following graph\n",
    "# as an Input for the program. [Initial node=1,Goal node=8]\n",
    "\n",
    "\n",
    "graph = {\n",
    "    1: [2, 3],\n",
    "    2: [1, 4, 5],\n",
    "    3: [1, 6, 7],\n",
    "    4: [2, 8],\n",
    "    5: [2, 8],\n",
    "    6: [3, 8],\n",
    "    7: [3, 8],\n",
    "    8: [4, 5, 6, 7]\n",
    "}\n",
    "\n",
    "visited = set()  \n",
    "path = []  \n",
    "\n",
    "\n",
    "def dfs(visited, graph, node, goal, path):\n",
    "    if node not in visited:\n",
    "        print(f\"Visited: {node}\")\n",
    "        visited.add(node)\n",
    "        path.append(node)  \n",
    "        if node == goal:\n",
    "            print(f\"\\nDFS path to reach node {goal}: {path}\")\n",
    "            return True  \n",
    "        for neighbour in graph[node]:\n",
    "            if dfs(visited, graph, neighbour, goal, path): \n",
    "                return True\n",
    "        path.pop() \n",
    "    return False\n",
    "\n",
    "\n",
    "print(\"Following is the Depth-First Search from node 1 to find node 8:\")\n",
    "dfs(visited, graph, 1, 8, path)\n",
    "\n"
   ]
  },
  {
   "cell_type": "code",
   "execution_count": null,
   "id": "ada2d217",
   "metadata": {},
   "outputs": [
    {
     "name": "stdout",
     "output_type": "stream",
     "text": [
      "Following is the Depth-First Search from node 1 to find node 8:\n",
      "1\n",
      "2\n",
      "4\n",
      "8\n",
      "{8, 1, 2, 4}\n"
     ]
    }
   ],
   "source": []
  },
  {
   "cell_type": "code",
   "execution_count": null,
   "id": "188153f9",
   "metadata": {},
   "outputs": [],
   "source": []
  }
 ],
 "metadata": {
  "kernelspec": {
   "display_name": "Python 3",
   "language": "python",
   "name": "python3"
  },
  "language_info": {
   "codemirror_mode": {
    "name": "ipython",
    "version": 3
   },
   "file_extension": ".py",
   "mimetype": "text/x-python",
   "name": "python",
   "nbconvert_exporter": "python",
   "pygments_lexer": "ipython3",
   "version": "3.12.4"
  }
 },
 "nbformat": 4,
 "nbformat_minor": 5
}
