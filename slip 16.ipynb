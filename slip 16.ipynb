{
 "cells": [
  {
   "cell_type": "code",
   "execution_count": null,
   "metadata": {},
   "outputs": [
    {
     "name": "stdout",
     "output_type": "stream",
     "text": [
      "The sequence of moves involved in the Tower of Hanoi are:\n",
      "Move disk 1 from A to C\n",
      "Move disk 2 from A to B\n",
      "Move disk 1 from C to B\n",
      "Move disk 3 from A to C\n",
      "Move disk 1 from B to A\n",
      "Move disk 2 from B to C\n",
      "Move disk 1 from A to C\n"
     ]
    }
   ],
   "source": [
    "# Write a Program to Implement Tower of Hanoi using Python\n",
    "def tower_of_hanoi(n, source, destination, auxiliary):\n",
    "    if n == 1:\n",
    "        print(f\"Move disk 1 from {source} to {destination}\")\n",
    "        return\n",
    "    tower_of_hanoi(n - 1, source, auxiliary, destination)\n",
    "    print(f\"Move disk {n} from {source} to {destination}\")\n",
    "    tower_of_hanoi(n - 1, auxiliary, destination, source)\n",
    "\n",
    "\n",
    "n = int(input(\"Enter the number of disks: \"))\n",
    "tower_of_hanoi(n, 'A', 'C', 'B')\n",
    "\n"
   ]
  },
  {
   "cell_type": "code",
   "execution_count": null,
   "metadata": {},
   "outputs": [
    {
     "name": "stdout",
     "output_type": "stream",
     "text": [
      "Welcome to Tic-Tac-Toe!\n",
      "\n",
      "Current Board:\n",
      "|   ||   ||   |\n",
      "---------------\n",
      "|   ||   ||   |\n",
      "---------------\n",
      "|   ||   ||   |\n",
      "---------------\n",
      "===============\n"
     ]
    }
   ],
   "source": [
    "# Write a Python program to solve tic-tac-toe problem.\n",
    "board = [' '] * 9\n",
    "current_player = 'X'\n",
    "\n",
    "def print_board():\n",
    "    for i in range(0, 9, 3):\n",
    "        print(\" | \".join(board[i:i+3]))\n",
    "    print()\n",
    "\n",
    "def check_winner():\n",
    "    win_patterns = [(0, 1, 2), (3, 4, 5), (6, 7, 8), (0, 3, 6), (1, 4, 7), (2, 5, 8), (0, 4, 8), (2, 4, 6)]\n",
    "    for a, b, c in win_patterns:\n",
    "        if board[a] == board[b] == board[c] != ' ':\n",
    "            return board[a]\n",
    "    if ' ' not in board:\n",
    "        return 'Draw'\n",
    "    return None\n",
    "\n",
    "print(\"Welcome to Tic-Tac-Toe!\")\n",
    "print_board()\n",
    "\n",
    "while True:\n",
    "    move = int(input(f\"Player {current_player}, enter your move (1-9): \")) - 1\n",
    "    if board[move] == ' ':\n",
    "        board[move] = current_player\n",
    "        print_board()\n",
    "        winner = check_winner()\n",
    "        if winner:\n",
    "            print(f\"{winner} wins!\" if winner != 'Draw' else \"It's a draw!\")\n",
    "            break\n",
    "        current_player = 'O' if current_player == 'X' else 'X'\n",
    "    else:\n",
    "        print(\"Invalid move, try again.\")\n"
   ]
  },
  {
   "cell_type": "code",
   "execution_count": null,
   "metadata": {},
   "outputs": [],
   "source": []
  }
 ],
 "metadata": {
  "kernelspec": {
   "display_name": "Python 3",
   "language": "python",
   "name": "python3"
  },
  "language_info": {
   "codemirror_mode": {
    "name": "ipython",
    "version": 3
   },
   "file_extension": ".py",
   "mimetype": "text/x-python",
   "name": "python",
   "nbconvert_exporter": "python",
   "pygments_lexer": "ipython3",
   "version": "3.12.4"
  }
 },
 "nbformat": 4,
 "nbformat_minor": 2
}
