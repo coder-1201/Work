{
 "cells": [
  {
   "cell_type": "code",
   "execution_count": null,
   "metadata": {},
   "outputs": [
    {
     "name": "stdout",
     "output_type": "stream",
     "text": [
      "Result of Alpha-Beta Pruning: 5\n"
     ]
    }
   ],
   "source": [
    "# Write a Program to Implement Alpha-Beta Pruning using Python\n",
    "\n",
    "def alpha_beta(node, depth, alpha, beta, maximizing):\n",
    "    if depth == 0 or node in ['leaf1', 'leaf2', 'leaf3']:\n",
    "        return {'leaf1': 3, 'leaf2': 5, 'leaf3': 2}.get(node, 0)\n",
    "\n",
    "\n",
    "    children = ['leaf1', 'leaf2', 'leaf3'] if node == 'root' else []\n",
    "\n",
    "    for child in children:\n",
    "        value = alpha_beta(child, depth - 1, alpha, beta, not maximizing)\n",
    "        \n",
    "        if maximizing:  \n",
    "            alpha = max(alpha, value)\n",
    "            if alpha >= beta: break  \n",
    "        else:            \n",
    "            beta = min(beta, value)\n",
    "            if beta <= alpha: break \n",
    "\n",
    "    return alpha if maximizing else beta\n",
    "\n",
    "result = alpha_beta('root', 3, float('-inf'), float('inf'), True)\n",
    "print(f\"Result of Alpha-Beta Pruning: {result}\")\n"
   ]
  },
  {
   "cell_type": "code",
   "execution_count": null,
   "metadata": {},
   "outputs": [
    {
     "name": "stdout",
     "output_type": "stream",
     "text": [
      "Welcome to the Simple Chatbot! Type 'exit' to end the conversation.\n",
      "Chatbot: Hello! How can I help you today?\n"
     ]
    }
   ],
   "source": [
    "# Write a Python program to implement Simple Chatbot.\n",
    "\n",
    "import random\n",
    "\n",
    "responses = {\n",
    "    \"greeting\": [\"Hello! How can I help you today?\", \"Hi there! What can I do for you?\", \"Greetings! How may I assist you?\"],\n",
    "    \"weather\": [\"I'm not sure about the weather, but it's always sunny in my world!\", \"I can't check the weather, but I hope it's nice outside!\", \"Weather? I prefer to talk about something else!\"],\n",
    "    \"farewell\": [\"Goodbye! Have a great day!\", \"See you later! Take care!\", \"Farewell! Hope to chat with you again!\"],\n",
    "    \"unknown\": [\"I'm sorry, I don't understand that.\", \"Could you please rephrase?\", \"I'm not sure how to respond to that.\"]\n",
    "}\n",
    "\n",
    "\n",
    "def get_response(user_input):\n",
    "    user_input = user_input.lower()\n",
    "    \n",
    "    if any(greet in user_input for greet in [\"hi\", \"hello\", \"hey\"]):\n",
    "        return random.choice(responses[\"greeting\"])\n",
    "    elif \"weather\" in user_input:\n",
    "        return random.choice(responses[\"weather\"])\n",
    "    elif any(farewell in user_input for farewell in [\"bye\", \"goodbye\", \"see you\"]):\n",
    "        return random.choice(responses[\"farewell\"])\n",
    "    else:\n",
    "        return random.choice(responses[\"unknown\"])\n",
    "\n",
    "\n",
    "def main():\n",
    "    print(\"Welcome to the Simple Chatbot! Type 'exit' to end the conversation.\")\n",
    "    \n",
    "    while True:\n",
    "        user_input = input(\"You: \")\n",
    "        \n",
    "        if user_input.lower() == \"exit\":\n",
    "            print(\"Chatbot: Goodbye! Have a great day!\")\n",
    "            break\n",
    "        \n",
    "        response = get_response(user_input)\n",
    "        print(f\"Chatbot: {response}\")\n",
    "\n",
    "if __name__ == \"__main__\":\n",
    "    main()\n"
   ]
  },
  {
   "cell_type": "code",
   "execution_count": null,
   "metadata": {},
   "outputs": [],
   "source": []
  }
 ],
 "metadata": {
  "kernelspec": {
   "display_name": "Python 3",
   "language": "python",
   "name": "python3"
  },
  "language_info": {
   "codemirror_mode": {
    "name": "ipython",
    "version": 3
   },
   "file_extension": ".py",
   "mimetype": "text/x-python",
   "name": "python",
   "nbconvert_exporter": "python",
   "pygments_lexer": "ipython3",
   "version": "3.12.4"
  }
 },
 "nbformat": 4,
 "nbformat_minor": 2
}
