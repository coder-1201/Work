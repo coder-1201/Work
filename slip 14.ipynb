{
 "cells": [
  {
   "cell_type": "code",
   "execution_count": null,
   "metadata": {},
   "outputs": [
    {
     "name": "stdout",
     "output_type": "stream",
     "text": [
      "Enter a sentence: i am yash\n",
      "Sorted sentence in alphabetical order:\n",
      "am i yash\n"
     ]
    }
   ],
   "source": [
    "# Write a python program to sort the sentence in alphabetical order?\n",
    "\n",
    "sentence = input(\"Enter a sentence: \")\n",
    "print(\"Sorted sentence in alphabetical order:\")\n",
    "print(' '.join(sorted(sentence.split())))\n"
   ]
  },
  {
   "cell_type": "code",
   "execution_count": null,
   "metadata": {},
   "outputs": [
    {
     "name": "stdout",
     "output_type": "stream",
     "text": [
      ". Q . .\n",
      ". . . Q\n",
      "Q . . .\n",
      ". . Q .\n",
      "\n",
      ". . Q .\n",
      "Q . . .\n",
      ". . . Q\n",
      ". Q . .\n",
      "\n"
     ]
    }
   ],
   "source": [
    "# Write a Python program to simulate n-Queens problem.\n",
    "\n",
    "def solve_n_queens(n):\n",
    "    board = [-1] * n\n",
    "    solutions = []\n",
    "\n",
    "    def place_queens(row):\n",
    "        if row == n:\n",
    "            solutions.append(board[:])\n",
    "            return\n",
    "        for col in range(n):\n",
    "            if all(col != board[i] and abs(col - board[i]) != row - i for i in range(row)):\n",
    "                board[row] = col\n",
    "                place_queens(row + 1)\n",
    "                board[row] = -1\n",
    "\n",
    "    place_queens(0)\n",
    "    return solutions\n",
    "\n",
    "def print_solutions(solutions, n):\n",
    "    for solution in solutions:\n",
    "        for col in solution:\n",
    "            row = ['.'] * n\n",
    "            row[col] = 'Q'\n",
    "            print(\" \".join(row))\n",
    "        print()\n",
    "\n",
    "n = 4\n",
    "solutions = solve_n_queens(n)\n",
    "print_solutions(solutions, n)\n",
    "\n"
   ]
  },
  {
   "cell_type": "code",
   "execution_count": null,
   "metadata": {},
   "outputs": [
    {
     "name": "stdout",
     "output_type": "stream",
     "text": [
      ". Q . .\n",
      ". . . Q\n",
      "Q . . .\n",
      ". . Q .\n",
      "\n",
      ". . Q .\n",
      "Q . . .\n",
      ". . . Q\n",
      ". Q . .\n",
      "\n"
     ]
    }
   ],
   "source": [
    "\n"
   ]
  },
  {
   "cell_type": "code",
   "execution_count": null,
   "metadata": {},
   "outputs": [],
   "source": []
  }
 ],
 "metadata": {
  "kernelspec": {
   "display_name": "Python 3",
   "language": "python",
   "name": "python3"
  },
  "language_info": {
   "codemirror_mode": {
    "name": "ipython",
    "version": 3
   },
   "file_extension": ".py",
   "mimetype": "text/x-python",
   "name": "python",
   "nbconvert_exporter": "python",
   "pygments_lexer": "ipython3",
   "version": "3.12.4"
  }
 },
 "nbformat": 4,
 "nbformat_minor": 2
}
