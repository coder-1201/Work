{
 "cells": [
  {
   "cell_type": "code",
   "execution_count": null,
   "metadata": {},
   "outputs": [
    {
     "name": "stdout",
     "output_type": "stream",
     "text": [
      "Solution found: T=7, W=3, O=4, F=1, U=6, R=8\n",
      "TWO = 734\n",
      "FOUR = 1468\n"
     ]
    }
   ],
   "source": [
    "# Write Python program to implement crypt arithmetic problem\n",
    "# TWO+TWO=FOUR\n",
    "\n",
    "\n",
    "from itertools import permutations\n",
    "\n",
    "def is_valid_assignment(t, w, o, f, u, r):\n",
    "\n",
    "    two = t * 100 + w * 10 + o\n",
    "    four = f * 1000 + o * 100 + u * 10 + r\n",
    "    return (two + two) == four\n",
    "\n",
    "def find_solution():\n",
    "\n",
    "    letters = 'TWOFRU'\n",
    "    \n",
    "   \n",
    "    for perm in permutations(range(10), len(letters)):\n",
    "       \n",
    "        t, w, o, f, u, r = perm\n",
    "        \n",
    "        \n",
    "        if t == 0 or f == 0:\n",
    "            continue\n",
    "        \n",
    "        if is_valid_assignment(t, w, o, f, u, r):\n",
    "            print(f'Solution found: T={t}, W={w}, O={o}, F={f}, U={u}, R={r}')\n",
    "            print(f'TWO = {t*100 + w*10 + o}')\n",
    "            print(f'FOUR = {f*1000 + o*100 + u*10 + r}')\n",
    "            return\n",
    "\n",
    "    print(\"No solution found.\")\n",
    "\n",
    "def main():\n",
    "    find_solution()\n",
    "\n",
    "if __name__ == \"__main__\":\n",
    "    main()\n"
   ]
  },
  {
   "cell_type": "code",
   "execution_count": null,
   "metadata": {},
   "outputs": [],
   "source": [
    "# Write a Python program to implement Simple Chatbot.\n",
    "\n",
    "import random\n",
    "\n",
    "responses = {\n",
    "    \"greeting\": [\"Hello! How can I help you today?\", \"Hi there! What can I do for you?\", \"Greetings! How may I assist you?\"],\n",
    "    \"weather\": [\"I'm not sure about the weather, but it's always sunny in my world!\", \"I can't check the weather, but I hope it's nice outside!\", \"Weather? I prefer to talk about something else!\"],\n",
    "    \"farewell\": [\"Goodbye! Have a great day!\", \"See you later! Take care!\", \"Farewell! Hope to chat with you again!\"],\n",
    "    \"unknown\": [\"I'm sorry, I don't understand that.\", \"Could you please rephrase?\", \"I'm not sure how to respond to that.\"]\n",
    "}\n",
    "\n",
    "\n",
    "def get_response(user_input):\n",
    "    user_input = user_input.lower()\n",
    "    \n",
    "    if any(greet in user_input for greet in [\"hi\", \"hello\", \"hey\"]):\n",
    "        return random.choice(responses[\"greeting\"])\n",
    "    elif \"weather\" in user_input:\n",
    "        return random.choice(responses[\"weather\"])\n",
    "    elif any(farewell in user_input for farewell in [\"bye\", \"goodbye\", \"see you\"]):\n",
    "        return random.choice(responses[\"farewell\"])\n",
    "    else:\n",
    "        return random.choice(responses[\"unknown\"])\n",
    "\n",
    "\n",
    "def main():\n",
    "    print(\"Welcome to the Simple Chatbot! Type 'exit' to end the conversation.\")\n",
    "    \n",
    "    while True:\n",
    "        user_input = input(\"You: \")\n",
    "        \n",
    "        if user_input.lower() == \"exit\":\n",
    "            print(\"Chatbot: Goodbye! Have a great day!\")\n",
    "            break\n",
    "        \n",
    "        response = get_response(user_input)\n",
    "        print(f\"Chatbot: {response}\")\n",
    "\n",
    "if __name__ == \"__main__\":\n",
    "    main()\n"
   ]
  }
 ],
 "metadata": {
  "kernelspec": {
   "display_name": "Python 3",
   "language": "python",
   "name": "python3"
  },
  "language_info": {
   "codemirror_mode": {
    "name": "ipython",
    "version": 3
   },
   "file_extension": ".py",
   "mimetype": "text/x-python",
   "name": "python",
   "nbconvert_exporter": "python",
   "pygments_lexer": "ipython3",
   "version": "3.12.4"
  }
 },
 "nbformat": 4,
 "nbformat_minor": 2
}
