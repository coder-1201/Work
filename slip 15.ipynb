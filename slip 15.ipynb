{
 "cells": [
  {
   "cell_type": "code",
   "execution_count": null,
   "metadata": {},
   "outputs": [
    {
     "name": "stdout",
     "output_type": "stream",
     "text": [
      "Initial State:\n",
      "Monkey height: 0, Banana height: 3, Has banana: False\n",
      "\n",
      "Goal State Reached:\n",
      "Monkey height: 3, Banana height: 3, Has banana: True\n"
     ]
    }
   ],
   "source": [
    "# Write a Program to Implement Monkey Banana Problem using Python\n",
    "\n",
    "class State:\n",
    "    def __init__(self, monkey_height, banana_height, has_banana):\n",
    "        self.monkey_height = monkey_height\n",
    "        self.banana_height = banana_height\n",
    "        self.has_banana = has_banana\n",
    "\n",
    "    def is_goal(self):\n",
    "        return self.has_banana\n",
    "\n",
    "    def __str__(self):\n",
    "        return f'Monkey height: {self.monkey_height}, Banana height: {self.banana_height}, Has banana: {self.has_banana}'\n",
    "\n",
    "\n",
    "def actions(state):\n",
    "    possible_actions = []\n",
    "    if state.monkey_height < state.banana_height:\n",
    "        possible_actions.append('Climb Up')\n",
    "    if state.monkey_height > 0:\n",
    "        possible_actions.append('Climb Down')\n",
    "    if state.monkey_height >= state.banana_height and not state.has_banana:\n",
    "        possible_actions.append('Grab Banana')\n",
    "    return possible_actions\n",
    "\n",
    "\n",
    "def transition(state, action):\n",
    "    new_state = State(state.monkey_height, state.banana_height, state.has_banana)\n",
    "    if action == 'Climb Up':\n",
    "        new_state.monkey_height += 1\n",
    "    elif action == 'Climb Down':\n",
    "        new_state.monkey_height -= 1\n",
    "    elif action == 'Grab Banana':\n",
    "        new_state.has_banana = True\n",
    "    return new_state\n",
    "\n",
    "\n",
    "def breadth_first_search(initial_state):\n",
    "    from collections import deque\n",
    "    queue = deque([initial_state])\n",
    "    visited = set()\n",
    "    while queue:\n",
    "        current_state = queue.popleft()\n",
    "        if current_state.is_goal():\n",
    "            return current_state\n",
    "        visited.add((current_state.monkey_height, current_state.has_banana))\n",
    "        for action in actions(current_state):\n",
    "            new_state = transition(current_state, action)\n",
    "            if (new_state.monkey_height, new_state.has_banana) not in visited:\n",
    "                queue.append(new_state)\n",
    "    return None\n",
    "\n",
    "\n",
    "def main():\n",
    "    initial_state = State(monkey_height=0, banana_height=3, has_banana=False)\n",
    "    print(\"Initial State:\")\n",
    "    print(initial_state)\n",
    "    solution = breadth_first_search(initial_state)\n",
    "    if solution:\n",
    "        print(\"\\nGoal State Reached:\")\n",
    "        print(solution)\n",
    "    else:\n",
    "        print(\"\\nNo solution found.\")\n",
    "\n",
    "\n",
    "if __name__ == \"__main__\":\n",
    "    main()\n",
    "\n"
   ]
  },
  {
   "cell_type": "code",
   "execution_count": 9,
   "metadata": {},
   "outputs": [
    {
     "name": "stdout",
     "output_type": "stream",
     "text": [
      "Following is the Depth-First Search from node 1 to find node 8:\n",
      "Visited: A\n",
      "Visited: C\n",
      "Visited: G\n",
      "\n",
      "DFS path to reach node G: ['A', 'C', 'G']\n"
     ]
    },
    {
     "data": {
      "text/plain": [
       "True"
      ]
     },
     "execution_count": 9,
     "metadata": {},
     "output_type": "execute_result"
    }
   ],
   "source": [
    "# Write a program to implement Iterative Deepening DFS algorithm.    [20 Marks ]\n",
    "# [ Goal Node =G]\n",
    "\n",
    "graph = {\n",
    "    'A': ['C', 'B'],\n",
    "    'B': ['D', 'F'],\n",
    "    'C': ['G', 'F'],\n",
    "    'D': ['H', 'I'],\n",
    "    'F': ['K'],\n",
    "    'E': [],\n",
    "    'H': [],\n",
    "    'I': [],\n",
    "    'G': [],\n",
    "}\n",
    "\n",
    "\n",
    "visited = set()  \n",
    "path = []  \n",
    "\n",
    "\n",
    "def dfs(visited, graph, node, goal, path):\n",
    "    if node not in visited:\n",
    "        print(f\"Visited: {node}\")\n",
    "        visited.add(node)\n",
    "        path.append(node)  \n",
    "        if node == goal:\n",
    "            print(f\"\\nDFS path to reach node {goal}: {path}\")\n",
    "            return True  \n",
    "        for neighbour in graph[node]:\n",
    "            if dfs(visited, graph, neighbour, goal, path): \n",
    "                return True\n",
    "        path.pop() \n",
    "    return False\n",
    "\n",
    "\n",
    "print(\"Following is the Depth-First Search from node 1 to find node 8:\")\n",
    "dfs(visited, graph, 'A', 'G', path)\n"
   ]
  },
  {
   "cell_type": "code",
   "execution_count": null,
   "metadata": {},
   "outputs": [],
   "source": []
  }
 ],
 "metadata": {
  "kernelspec": {
   "display_name": "Python 3",
   "language": "python",
   "name": "python3"
  },
  "language_info": {
   "codemirror_mode": {
    "name": "ipython",
    "version": 3
   },
   "file_extension": ".py",
   "mimetype": "text/x-python",
   "name": "python",
   "nbconvert_exporter": "python",
   "pygments_lexer": "ipython3",
   "version": "3.12.4"
  }
 },
 "nbformat": 4,
 "nbformat_minor": 2
}
