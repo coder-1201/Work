{
 "cells": [
  {
   "cell_type": "code",
   "execution_count": 3,
   "id": "aea4b127",
   "metadata": {},
   "outputs": [
    {
     "name": "stdout",
     "output_type": "stream",
     "text": [
      "Original String: Hello, World! How's it going? Let's remove: punctuation.\n",
      "String without punctuation: Hello World Hows it going Lets remove punctuation\n"
     ]
    }
   ],
   "source": [
    "# Write a python program to remove punctuations from the given string?\n",
    "\n",
    "import string\n",
    "\n",
    "input_string = \"Hello, World! How's it going? Let's remove: punctuation.\"\n",
    "clean_string =  input_string.translate(str.maketrans('', '', string.punctuation))\n",
    "\n",
    "print(f\"Original String: {input_string}\")\n",
    "print(f\"String without punctuation: {clean_string}\")\n"
   ]
  },
  {
   "cell_type": "code",
   "execution_count": 1,
   "id": "62743b9c",
   "metadata": {},
   "outputs": [
    {
     "name": "stdout",
     "output_type": "stream",
     "text": [
      "Following is the Depth-First Search from node 1 to find node 8:\n",
      "Visited: 1\n",
      "Visited: 2\n",
      "Visited: 4\n",
      "Visited: 3\n",
      "Visited: 7\n",
      "\n",
      "DFS path to reach node 7: [1, 2, 4, 7]\n"
     ]
    },
    {
     "data": {
      "text/plain": [
       "True"
      ]
     },
     "execution_count": 1,
     "metadata": {},
     "output_type": "execute_result"
    }
   ],
   "source": [
    "\n",
    "graph = {\n",
    "    1: [2, 3, 4],\n",
    "    2: [1, 4, 5],\n",
    "    3: [1, 4],\n",
    "    4: [1, 2, 3, 7],\n",
    "    5: [6, 3, 7],\n",
    "    6: [5 , 7],\n",
    "    7: [6 , 5, 4],\n",
    "}\n",
    "\n",
    "visited = set()  \n",
    "path = []  \n",
    "\n",
    "\n",
    "def dfs(visited, graph, node, goal, path):\n",
    "    if node not in visited:\n",
    "        print(f\"Visited: {node}\")\n",
    "        visited.add(node)\n",
    "        path.append(node)  \n",
    "        if node == goal:\n",
    "            print(f\"\\nDFS path to reach node {goal}: {path}\")\n",
    "            return True \n",
    "        for neighbour in graph[node]:\n",
    "            if dfs(visited, graph, neighbour, goal, path):\n",
    "                return True\n",
    "        path.pop()  \n",
    "    return False\n",
    "\n",
    "print(\"Following is the Depth-First Search from node 1 to find node 8:\")\n",
    "dfs(visited, graph, 1, 7, path)"
   ]
  },
  {
   "cell_type": "code",
   "execution_count": null,
   "id": "25d0e59b",
   "metadata": {},
   "outputs": [],
   "source": []
  }
 ],
 "metadata": {
  "kernelspec": {
   "display_name": "Python 3",
   "language": "python",
   "name": "python3"
  },
  "language_info": {
   "codemirror_mode": {
    "name": "ipython",
    "version": 3
   },
   "file_extension": ".py",
   "mimetype": "text/x-python",
   "name": "python",
   "nbconvert_exporter": "python",
   "pygments_lexer": "ipython3",
   "version": "3.12.4"
  }
 },
 "nbformat": 4,
 "nbformat_minor": 5
}
